{
 "cells": [
  {
   "cell_type": "code",
   "execution_count": 30,
   "id": "921a5b50",
   "metadata": {},
   "outputs": [],
   "source": [
    "import numpy as np\n",
    "\n",
    "\n",
    "def readfile():                                                            #讀取檔案用在GA_solver\n",
    "    with open(file_name, 'r') as f:\n",
    "        file_list = [list(map(lambda x: int(x) ,line.split())) for line in f]\n",
    "    return file_list\n",
    "\n",
    "def fitFunc(x):                                                            # 適應度函數\n",
    "    S = np.zeros((NUM_JOB, NUM_MACHINE))    # S[i][j] = Starting time of job i at machine j\n",
    "    C = np.zeros((NUM_JOB, NUM_MACHINE))    # C[i][j] = Completion time of job i at machine j    \n",
    "    B = np.zeros(NUM_MACHINE, dtype=int)    # B[j] = Available time of machine j  \n",
    "    opJob = np.zeros(NUM_JOB, dtype=int)    # opJob[i] = current operation ID of job i\n",
    "    \n",
    "    for i in range(NUM_BIT):\n",
    "        m = mOrder[x[i]][opJob[x[i]]]\n",
    "        if opJob[x[i]] != 0:\n",
    "            S[x[i]][m] = max([B[m], C[x[i]][mOrder[x[i]][opJob[x[i]]-1]]])\n",
    "        else:\n",
    "            S[x[i]][m] = B[m]        \n",
    "        C[x[i]][m] = B[m] = S[x[i]][m] + pTime[x[i]][opJob[x[i]]]\n",
    "        opJob[x[i]] += 1\n",
    "    return -max(B)           # 因為是最小化問題\n"
   ]
  },
  {
   "cell_type": "code",
   "execution_count": 28,
   "id": "cf4f973e",
   "metadata": {},
   "outputs": [],
   "source": [
    "A = [5, 6, 7, 11, 17, 19, 8, 0, 16, 9, 1, 15, 14, 13, 2, 3, 4, 12, 18, 10, 19, 15, 5, 7, 18, 12, 17, 3, 10, 9, 2, 16, 0, 6, 14, 8, 11, 1, 4, 13, 2, 16, 1, 14, 3, 8, 6, 12, 0, 15, 17, 5, 13, 18, 4, 19, 7, 9, 11, 10, 6, 9, 13, 19, 10, 0, 8, 5, 3, 15, 18, 14, 16, 4, 11, 7, 12, 17, 1, 2, 4, 18, 19, 0, 12, 3, 6, 1, 16, 13, 8, 7, 5, 17, 15, 9, 14, 10, 2, 11, 9, 3, 19, 12, 7, 6, 4, 18, 15, 10, 8, 14, 5, 17, 0, 16, 11, 2, 13, 1, 18, 4, 14, 3, 9, 8, 10, 19, 17, 13, 5, 2, 16, 15, 6, 7, 0, 11, 12, 1, 14, 12, 8, 16, 1, 10, 3, 9, 6, 2, 19, 0, 5, 18, 7, 4, 17, 11, 15, 13, 12, 0, 8, 1, 6, 16, 14, 17, 7, 19, 2, 4, 9, 13, 3, 10, 18, 11, 5, 15, 19, 18, 7, 4, 16, 10, 12, 1, 13, 11, 15, 17, 6, 8, 3, 2, 0, 5, 9, 14, 15, 19, 4, 0, 5, 11, 13, 14, 7, 6, 18, 17, 2, 8, 12, 16, 1, 10, 9, 3, 16, 8, 7, 4, 5, 3, 14, 10, 6, 1, 19, 0, 11, 15, 13, 17, 2, 12, 18, 9, 11, 9, 5, 2, 10, 18, 7, 12, 0, 8, 19, 13, 1, 15, 14, 4, 17, 6, 3, 16, 15, 5, 14, 19, 6, 13, 17, 12, 8, 7, 0, 3, 9, 1, 11, 10, 2, 16, 18, 4, 1, 16, 19, 9, 6, 8, 15, 11, 18, 4, 3, 13, 10, 17, 12, 0, 5, 14, 7, 2]"
   ]
  },
  {
   "cell_type": "code",
   "execution_count": 29,
   "id": "90963b3a",
   "metadata": {},
   "outputs": [
    {
     "name": "stdout",
     "output_type": "stream",
     "text": [
      "[5, 6, 7, 11, 17, 19, 8, 0, 16, 9, 1, 15, 14, 13, 2, 3, 4, 12, 18, 10, 19, 15, 5, 7, 18, 12, 17, 3, 10, 9, 2, 16, 0, 6, 14, 8, 11, 1, 4, 13, 2, 16, 1, 14, 3, 8, 6, 12, 0, 15, 17, 5, 13, 18, 4, 19, 7, 9, 11, 10, 6, 9, 13, 19, 10, 0, 8, 5, 3, 15, 18, 14, 16, 4, 11, 7, 12, 17, 1, 2, 4, 18, 19, 0, 12, 3, 6, 1, 16, 13, 8, 7, 5, 17, 15, 9, 14, 10, 2, 11, 9, 3, 19, 12, 7, 6, 4, 18, 15, 10, 8, 14, 5, 17, 0, 16, 11, 2, 13, 1, 18, 4, 14, 3, 9, 8, 10, 19, 17, 13, 5, 2, 16, 15, 6, 7, 0, 11, 12, 1, 14, 12, 8, 16, 1, 10, 3, 9, 6, 2, 19, 0, 5, 18, 7, 4, 17, 11, 15, 13, 12, 0, 8, 1, 6, 16, 14, 17, 7, 19, 2, 4, 9, 13, 3, 10, 18, 11, 5, 15, 19, 18, 7, 4, 16, 10, 12, 1, 13, 11, 15, 17, 6, 8, 3, 2, 0, 5, 9, 14, 15, 19, 4, 0, 5, 11, 13, 14, 7, 6, 18, 17, 2, 8, 12, 16, 1, 10, 9, 3, 16, 8, 7, 4, 5, 3, 14, 10, 6, 1, 19, 0, 11, 15, 13, 17, 2, 12, 18, 9, 11, 9, 5, 2, 10, 18, 7, 12, 0, 8, 19, 13, 1, 15, 14, 4, 17, 6, 3, 16, 15, 5, 14, 19, 6, 13, 17, 12, 8, 7, 0, 3, 9, 1, 11, 10, 2, 16, 18, 4, 1, 16, 19, 9, 6, 8, 15, 11, 18, 4, 3, 13, 10, 17, 12, 0, 5, 14, 7, 2]\n"
     ]
    }
   ],
   "source": [
    "print(A)"
   ]
  },
  {
   "cell_type": "code",
   "execution_count": 35,
   "id": "b7791c4c",
   "metadata": {},
   "outputs": [
    {
     "name": "stdout",
     "output_type": "stream",
     "text": [
      "-4133\n"
     ]
    }
   ],
   "source": [
    "\n",
    "NUM_JOB = 20\n",
    "NUM_MACHINE = 15\n",
    "NUM_BIT = 300\n",
    "file_name = '/home/yarikama/Desktop/Simulation/r20_15/rcmax_20_15_8.txt'\n",
    "file_list = readfile()\n",
    "pTime = [[file_list[i][j] for j in range(len(file_list[i])) if j % 2 == 1] for i in range(1, len(file_list))]\n",
    "mOrder = [[file_list[i][j] for j in range(len(file_list[i])) if j % 2 == 0] for i in range(1, len(file_list))]\n",
    "print(fitFunc(A))"
   ]
  },
  {
   "cell_type": "code",
   "execution_count": 36,
   "id": "ddb17428",
   "metadata": {},
   "outputs": [
    {
     "name": "stdout",
     "output_type": "stream",
     "text": [
      "exam\n"
     ]
    }
   ],
   "source": [
    "filename = \"example.txt\"\n",
    "name = filename.split(\".\")[0]  # 拆分檔名，並取得 `.` 前面的部分\n",
    "first_four_chars = name[:4]  # 取得前四個字元\n",
    "print(first_four_chars)"
   ]
  },
  {
   "cell_type": "code",
   "execution_count": null,
   "id": "d789c6ef",
   "metadata": {},
   "outputs": [],
   "source": []
  }
 ],
 "metadata": {
  "kernelspec": {
   "display_name": "Python 3 (ipykernel)",
   "language": "python",
   "name": "python3"
  },
  "language_info": {
   "codemirror_mode": {
    "name": "ipython",
    "version": 3
   },
   "file_extension": ".py",
   "mimetype": "text/x-python",
   "name": "python",
   "nbconvert_exporter": "python",
   "pygments_lexer": "ipython3",
   "version": "3.11.2"
  }
 },
 "nbformat": 4,
 "nbformat_minor": 5
}
